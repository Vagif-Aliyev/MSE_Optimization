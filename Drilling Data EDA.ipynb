{
 "cells": [
  {
   "cell_type": "code",
   "execution_count": 125,
   "id": "5d2929ef-9cf8-4068-be2f-387d0c21bb10",
   "metadata": {},
   "outputs": [],
   "source": [
    "import lasio\n",
    "import pandas as pd\n",
    "import seaborn as sns\n",
    "import numpy as np\n",
    "import matplotlib.pyplot as plt\n",
    "pd.set_option(\"display.max_columns\", None)"
   ]
  },
  {
   "cell_type": "code",
   "execution_count": 126,
   "id": "6a8f00a0-1306-4d79-b192-c1dc3dbb0b26",
   "metadata": {},
   "outputs": [],
   "source": [
    "selected_columns = [\n",
    "    \"YYYY/MM/DD\",\n",
    "    \"HH:MM:SS\",\n",
    "    \"Hole Depth (feet)\",\n",
    "    \"Bit Depth (feet)\",\n",
    "    \"Rate Of Penetration (ft_per_hr)\",\n",
    "    \"Weight on Bit (klbs)\",\n",
    "    \"Hook Load (klbs)\",\n",
    "    \"Rotary RPM (RPM)\",\n",
    "    \"Standpipe Pressure (psi)\",\n",
    "    \"Rotary Torque (kft_lb)\",\n",
    "    \"Differential Pressure (psi)\",\n",
    "    \"Flow (flow_percent)\",\n",
    "    \"Total Pump Output (gal_per_min)\",\n",
    "    \"Pason Gas (percent)\",\n",
    "    \"On Bottom (unitless)\",\n",
    "    \"Hole Diameter (in)\",\n",
    "    \"Bit RPM (RPM)\",\n",
    "    \"Bit Torque (kft_lb)\",\n",
    "    \"EDR Instantaneous ROP (ft_per_hr)\",\n",
    "    \"On Bottom ROP (ft_per_hr)\",\n",
    "    \"Surface Stick Slip Index (percent)\",\n",
    "    \"MWD Temp (Fahrenheit)\",\n",
    "    \"Azimuth (degrees)\",\n",
    "    \"Inclination (degrees)\",\n",
    "    \"Temp IN (Degrees)\",\n",
    "    \"Temp OUT (Degrees)\",\n",
    "    \"AutoDriller WOB (klbs)\",\n",
    "    \"AutoDriller Torque (kft_lb)\",\n",
    "    \"Top Drive Rotary (RPM)\",\n",
    "    \"Top Drive Torque (kft_lb)\",\n",
    "    \"DAS BHA Stick Slip (unitless)\",\n",
    "    \"DAS Bit Stick Slip (unitless)\",\n",
    "    \"DAS MSE (ksi)\",\n",
    "    \"DAS Downhole MSE (ksi)\",\n",
    "    \"DAS ROP (ft_per_hr)\",\n",
    "    \"DAS Recommended DIFFP (psi)\",\n",
    "    \"DAS Recommended ROP (ft_per_hr)\",\n",
    "    \"DAS Recommended RPM (RPM)\",\n",
    "    \"DAS Recommended WOB (klbs)\",\n",
    "    \"Depth of Cut (in)\",\n",
    "    \"dexponent (log)\",\n",
    "    \"Mechanical Specific Energy (ksi)\",\n",
    "    \"TTS Mechanical Specific Energy (ksi)\",\n",
    "    \"Relative MSE (unitless)\"\n",
    "]\n"
   ]
  },
  {
   "cell_type": "code",
   "execution_count": null,
   "id": "8d38d63c-abf1-489b-8688-d2b97b0d39ef",
   "metadata": {},
   "outputs": [],
   "source": [
    "df1=pd.read_csv(\"27029986-3.csv\", usecols=selected_columns)\n",
    "df2=pd.read_csv(\"27029986-4.csv\", usecols=selected_columns)\n",
    "df3=pd.read_csv(\"27029986-5.csv\", usecols=selected_columns)\n",
    "df4=pd.read_csv(\"27029986-6.csv\", usecols=selected_columns)"
   ]
  },
  {
   "cell_type": "markdown",
   "id": "fef5380b-ee21-4666-aacd-27121aa690ff",
   "metadata": {},
   "source": [
    "## Continiuty check over the dataframes"
   ]
  },
  {
   "cell_type": "code",
   "execution_count": null,
   "id": "b9d94447-db60-4169-ae84-2a5b9cb1f2d1",
   "metadata": {},
   "outputs": [],
   "source": [
    "for idx, data in enumerate([df1,df2,df3,df4]):\n",
    "    print(f\"Dataframe N{idx}\")\n",
    "    print(\"___________________\")\n",
    "    print(\"Size:\", data.size)\n",
    "    print(\"Shape:\", data.shape)\n",
    "    print(\"\\n\")"
   ]
  },
  {
   "cell_type": "code",
   "execution_count": null,
   "id": "107ac430-dd63-4113-9547-6a62f08bbb68",
   "metadata": {},
   "outputs": [],
   "source": [
    "df_list=[df1,df2,df3,df4]\n",
    "\n",
    "for df in df_list:\n",
    "    print(\"Record\")\n",
    "    print(\"Start Date: \", df[\"YYYY/MM/DD\"][0])\n",
    "    print(\"End Date: \",   df[\"YYYY/MM/DD\"][df.shape[0]-1])\n",
    "    print(\"Start Hole Depth: \", df[\"Hole Depth (feet)\"][0])\n",
    "    print(\"End Hole Depth: \", df[\"Hole Depth (feet)\"][df.shape[0]-1])\n",
    "    print(\"____________________________\")\n"
   ]
  },
  {
   "cell_type": "markdown",
   "id": "3a198d6c-e4a3-4b5a-b634-eca7642a11d4",
   "metadata": {},
   "source": [
    "### CONCATING ALL RECORDS"
   ]
  },
  {
   "cell_type": "code",
   "execution_count": null,
   "id": "0d85d07b-22c9-4113-b1ff-1bb6aa67c553",
   "metadata": {},
   "outputs": [],
   "source": [
    "df=pd.concat([df1,df2,df3,df4], ignore_index=True)\n",
    "df.head()"
   ]
  },
  {
   "cell_type": "markdown",
   "id": "5dedb6a4-1ede-479b-84fc-27361b5ca806",
   "metadata": {},
   "source": [
    "## Data Cleaning\n",
    "\n",
    "- Missing data cleaning\n",
    "- Duplication check\n",
    "- Imputation"
   ]
  },
  {
   "cell_type": "code",
   "execution_count": null,
   "id": "1fc5bcae-74d3-4003-86a9-e519ad51139b",
   "metadata": {
    "scrolled": true
   },
   "outputs": [],
   "source": [
    "df_mse=df[~df['DAS MSE (ksi)'].isnull()]"
   ]
  },
  {
   "cell_type": "markdown",
   "id": "99c37f6a-cb9c-4748-be8d-29cb5c01670b",
   "metadata": {},
   "source": [
    "### Note 1 \n",
    "\n",
    "- Currently it shows that there is no null value, but there are. -999.99 or similar value is a classic placeholder for missing or invalid sensor readings. First, I will first replace only -999.25 values with 0. Then, I will check new minimum values."
   ]
  },
  {
   "cell_type": "code",
   "execution_count": null,
   "id": "e07d7d49-61ca-4164-933b-bedf5e0639a4",
   "metadata": {},
   "outputs": [],
   "source": [
    "df_mse.describe().T"
   ]
  },
  {
   "cell_type": "markdown",
   "id": "ead3548a-8646-4e6a-b680-fd8c980d6a82",
   "metadata": {},
   "source": [
    "### Data Cleaning Notes:Outlier and Placeholder Handling\n",
    "\n",
    "- Replaced placeholder -999.25 with NaN across all numeric columns.\n",
    "\n",
    "- Applied domain-specific sanity checks to filter out physically impossible or highly suspicious values:\n",
    "\n",
    "  \n",
    "\n",
    "| Column                  | Rule Applied                        | Reasoning                                                     |\n",
    "| ----------------------- | ----------------------------------- | ------------------------------------------------------------- |\n",
    "| `Temp IN (Degrees)`     | Removed values `< 32°F`             | Sub-freezing input temps are implausible                      |\n",
    "| `Flow (flow_percent)`   | Kept only values in `[0%, 100%]`    | Flow % cannot be negative or exceed full capacity             |\n",
    "| `Temp OUT (Degrees)`    | Kept only values in `[32°F, 400°F]` | Outside this range likely sensor drift or geothermal extremes |\n",
    "| `Differential Pressure` | Removed values `< -500 psi`         | Large negative ∆P suggests reversed or broken signal          |\n",
    "| `Bit Torque (kft_lb)`   | Removed negative values             | Torque can't be negative in this context                      |\n",
    "| `Top Drive RPM`         | Removed negative values             | RPM directionality not relevant here; negatives = noise       |\n",
    "| `Top Drive Torque`      | Removed negative values             | Same logic as Bit Torque                                      |\n",
    "| `Depth of Cut (in)`     | Removed values `> 2 inches/cut`     | Extremely high values are data corruption or unit errors      |\n"
   ]
  },
  {
   "cell_type": "code",
   "execution_count": null,
   "id": "fc24246f-f647-4d80-83f5-24eb54142a3d",
   "metadata": {},
   "outputs": [],
   "source": [
    "df_mse.head()"
   ]
  },
  {
   "cell_type": "code",
   "execution_count": null,
   "id": "f2d344cf-6a07-4971-96db-88fa7c62c42c",
   "metadata": {},
   "outputs": [],
   "source": [
    "def clean_drilling_data(df):\n",
    "    df_clean = df.copy()\n",
    "\n",
    "    # Replace all -999.25 placeholders with NaN\n",
    "    df_clean = df_clean.replace(-999.25, np.nan)\n",
    "\n",
    "    # Apply domain-specific filters\n",
    "    df_clean.loc[df_clean['Temp IN (Degrees)'] < 32, 'Temp IN (Degrees)'] = np.nan\n",
    "    df_clean.loc[(df_clean['Flow (flow_percent)'] < 0) | (df_clean['Flow (flow_percent)'] > 100), 'Flow (flow_percent)'] = np.nan\n",
    "    df_clean.loc[(df_clean['Temp OUT (Degrees)'] < 32) | (df_clean['Temp OUT (Degrees)'] > 400), 'Temp OUT (Degrees)'] = np.nan\n",
    "    df_clean.loc[df_clean['Bit Torque (kft_lb)'] < 0, 'Bit Torque (kft_lb)'] = np.nan\n",
    "    df_clean.loc[df_clean['Top Drive Rotary (RPM)'] < 0, 'Top Drive Rotary (RPM)'] = np.nan\n",
    "    df_clean.loc[df_clean['Top Drive Torque (kft_lb)'] < 0, 'Top Drive Torque (kft_lb)'] = np.nan\n",
    "    df_clean.loc[df_clean['Depth of Cut (in)'] > 2, 'Depth of Cut (in)'] = np.nan\n",
    "    df_clean.loc[(df_clean['Rate Of Penetration (ft_per_hr)'] < 0) | (df_clean['Rate Of Penetration (ft_per_hr)'] > 500), 'Temp OUT (Degrees)'] = np.nan\n",
    "    \n",
    "    df_clean.loc[df_clean['Rate Of Penetration (ft_per_hr)'] > 500, 'Depth of Cut (in)'] = np.nan\n",
    "    \n",
    "\n",
    "    return df_clean\n",
    "df_mse_clean = clean_drilling_data(df_mse)\n",
    "df_mse_clean.drop(columns=['Pason Gas (percent)','DAS Recommended DIFFP (psi)'], inplace=True)"
   ]
  },
  {
   "cell_type": "code",
   "execution_count": null,
   "id": "57cced85-6c2b-4cb9-8f1a-de73b747a098",
   "metadata": {},
   "outputs": [],
   "source": [
    "df_mse_clean['Rate Of Penetration (ft_per_hr)'].max()"
   ]
  },
  {
   "cell_type": "code",
   "execution_count": null,
   "id": "8e04ba24-27fb-4584-b07b-18e79c44a55c",
   "metadata": {},
   "outputs": [],
   "source": [
    "df_mse_clean.describe().T"
   ]
  },
  {
   "cell_type": "markdown",
   "id": "ccbb0673-66f2-4b3e-8f2f-d442288b8358",
   "metadata": {},
   "source": [
    "### Additional Cleaning Notes: Extreme Outlier Removal for MSE & ROP\n",
    "\n",
    "- Detected physically impossible max values in key drilling metrics (e.g., ROP > 11,000 ft/hr, MSE > 40 billion ksi).\n",
    "\n",
    "- These are likely due to sensor glitches, divide-by-zero errors, or corrupted logging data.\n",
    "\n",
    "- Applied hard caps based on realistic operational ranges to safely remove outliers:"
   ]
  },
  {
   "cell_type": "code",
   "execution_count": null,
   "id": "d24ca563-a8fd-44d8-99e1-eddb1709ff6c",
   "metadata": {},
   "outputs": [],
   "source": [
    "import pandas as pd\n",
    "import numpy as np\n",
    "\n",
    "def clean_extreme_mse_rop(df):\n",
    "    df_filtered = df.copy()\n",
    "\n",
    "    # Cap ROPs\n",
    "    rop_columns = [\n",
    "        'Rate Of Penetration (ft_per_hr)',\n",
    "        'EDR Instantaneous ROP (ft_per_hr)',\n",
    "        'On Bottom ROP (ft_per_hr)'\n",
    "    ]\n",
    "    for col in rop_columns:\n",
    "        if col in df_filtered.columns:\n",
    "            df_filtered.loc[df_filtered[col] > 300, col] = np.nan\n",
    "\n",
    "    # Cap MSE values\n",
    "    mse_columns = [\n",
    "        'DAS MSE (ksi)',\n",
    "        'Mechanical Specific Energy (ksi)',\n",
    "        'TTS Mechanical Specific Energy (ksi)'\n",
    "    ]\n",
    "    for col in mse_columns:\n",
    "        if col in df_filtered.columns:\n",
    "            df_filtered.loc[df_filtered[col] > 1000, col] = np.nan\n",
    "\n",
    "    # Cap Relative MSE\n",
    "    if 'Relative MSE (unitless)' in df_filtered.columns:\n",
    "        df_filtered.loc[df_filtered['Relative MSE (unitless)'] > 20, 'Relative MSE (unitless)'] = np.nan\n",
    "\n",
    "    return df_filtered\n"
   ]
  },
  {
   "cell_type": "code",
   "execution_count": null,
   "id": "1bd7cbbf-407c-4b69-9f80-5ab39d923cac",
   "metadata": {},
   "outputs": [],
   "source": [
    "df_mse_clean=clean_extreme_mse_rop(df_mse_clean)"
   ]
  },
  {
   "cell_type": "code",
   "execution_count": null,
   "id": "2334abb9-b141-484f-9871-776800b30ed5",
   "metadata": {},
   "outputs": [],
   "source": [
    "df_mse_clean.describe().T"
   ]
  },
  {
   "cell_type": "code",
   "execution_count": null,
   "id": "9f045641-aa2e-4c4e-b1e6-27513565b17f",
   "metadata": {},
   "outputs": [],
   "source": []
  },
  {
   "cell_type": "code",
   "execution_count": null,
   "id": "4fc05bf6-908e-48bc-a426-decc1a3d80f4",
   "metadata": {},
   "outputs": [],
   "source": [
    "def plot_on_bottom_overlay(df):\n",
    "    sns.set(style=\"whitegrid\")\n",
    "    fig, axes = plt.subplots(2, 1, figsize=(14, 10), sharex=True)\n",
    "\n",
    "    # Plot ROP vs Bit Depth\n",
    "    sns.scatterplot(ax=axes[0],\n",
    "                    data=df,\n",
    "                    x=\"Rate Of Penetration (ft_per_hr)\",\n",
    "                    y=\"Bit Depth (feet)\",\n",
    "                    hue=\"On Bottom (unitless)\",\n",
    "                    palette={0: \"red\", 1: \"green\"},\n",
    "                    s=5,\n",
    "                    alpha=0.5)\n",
    "    axes[0].invert_yaxis()\n",
    "    axes[0].set_title(\"ROP vs Bit Depth (colored by On Bottom)\")\n",
    "    axes[0].set_xlabel(\"ROP (ft/hr)\")\n",
    "    axes[0].set_ylabel(\"Bit Depth (feet)\")\n",
    "\n",
    "    # Plot Hook Load vs Bit Depth\n",
    "    sns.scatterplot(ax=axes[1],\n",
    "                    data=df,\n",
    "                    x=\"Hook Load (klbs)\",\n",
    "                    y=\"Bit Depth (feet)\",\n",
    "                    hue=\"On Bottom (unitless)\",\n",
    "                    palette={0: \"red\", 1: \"green\"},\n",
    "                    s=5,\n",
    "                    alpha=0.5)\n",
    "    axes[1].invert_yaxis()\n",
    "    axes[1].set_title(\"Hook Load vs Bit Depth (colored by On Bottom)\")\n",
    "    axes[1].set_xlabel(\"Hook Load (klbs)\")\n",
    "    axes[1].set_ylabel(\"Bit Depth (feet)\")\n",
    "\n",
    "    plt.tight_layout()\n",
    "    plt.show()\n"
   ]
  },
  {
   "cell_type": "code",
   "execution_count": null,
   "id": "84470793-1752-4601-9b99-7c3c646416ae",
   "metadata": {},
   "outputs": [],
   "source": [
    "plot_on_bottom_overlay(df_mse_clean)"
   ]
  },
  {
   "cell_type": "code",
   "execution_count": null,
   "id": "8de7fb75-dcba-45f9-85c2-acaca010ddcc",
   "metadata": {},
   "outputs": [],
   "source": [
    "df_mse_clean['On Bottom (unitless)'].value_counts(normalize=True)"
   ]
  },
  {
   "cell_type": "code",
   "execution_count": null,
   "id": "96aecb17-8f0e-4a7a-84c5-9137bc51f7fa",
   "metadata": {},
   "outputs": [],
   "source": [
    "df_on_bottom=df_mse_clean[df_mse_clean['On Bottom (unitless)']==1]"
   ]
  },
  {
   "cell_type": "code",
   "execution_count": null,
   "id": "03869aed-ad65-4b8e-9b36-fef86fdc62f6",
   "metadata": {},
   "outputs": [],
   "source": [
    "plot_on_bottom_overlay(df_on_bottom)"
   ]
  },
  {
   "cell_type": "code",
   "execution_count": null,
   "id": "fb8cbfef-3a50-4332-9204-6de080ff76a4",
   "metadata": {},
   "outputs": [],
   "source": []
  },
  {
   "cell_type": "code",
   "execution_count": null,
   "id": "21b9bfcf-e1fb-4875-a442-da24f58233d4",
   "metadata": {},
   "outputs": [],
   "source": [
    "df_on_bottom[\"Relative MSE (unitless)\"].value_counts()"
   ]
  },
  {
   "cell_type": "code",
   "execution_count": null,
   "id": "46b9b722-1b7a-4fa8-9bed-d7312b49d7cb",
   "metadata": {},
   "outputs": [],
   "source": [
    "df_eff = df_on_bottom[(df_on_bottom[\"Relative MSE (unitless)\"] > 0) & (df_on_bottom[\"Relative MSE (unitless)\"] < 1.2)]\n",
    "df_ineff = df_on_bottom[df_on_bottom[\"Relative MSE (unitless)\"] > 2.0]"
   ]
  },
  {
   "cell_type": "code",
   "execution_count": null,
   "id": "65f8b980-2d4f-43b2-aa1b-461df20da056",
   "metadata": {},
   "outputs": [],
   "source": [
    "df_eff['Rotary RPM (RPM)'].value_counts()"
   ]
  },
  {
   "cell_type": "code",
   "execution_count": null,
   "id": "2b00f7d9-ec8b-4765-96e5-9e9de679c891",
   "metadata": {},
   "outputs": [],
   "source": [
    "plt.figure(figsize=(10, 6))\n",
    "sns.kdeplot(data=df_eff, x=\"Weight on Bit (klbs)\", y=\"Rotary RPM (RPM)\", fill=True, cmap=\"Greens\", alpha=0.6, label=\"Efficient\")\n",
    "sns.kdeplot(data=df_ineff, x=\"Weight on Bit (klbs)\", y=\"Rotary RPM (RPM)\", fill=True, cmap=\"Reds\", alpha=0.3, label=\"Inefficient\")\n",
    "plt.legend()\n",
    "plt.xlim(20, 60)\n",
    "plt.ylim(0, 20)\n",
    "plt.title(\"KDE of WOB vs RPM: Efficient vs Inefficient Drilling\")\n",
    "plt.xlabel(\"WOB (klbs)\")\n",
    "plt.ylabel(\"RPM\")\n",
    "plt.show()\n"
   ]
  },
  {
   "cell_type": "code",
   "execution_count": null,
   "id": "8e32c135-1624-4e39-a960-f288e9e646a2",
   "metadata": {},
   "outputs": [],
   "source": [
    "df_eff[\"Weight on Bit (klbs)\"].value_counts().head(10)"
   ]
  },
  {
   "cell_type": "code",
   "execution_count": null,
   "id": "5537d6f4-2274-4a70-8afc-0bd514b7c578",
   "metadata": {},
   "outputs": [],
   "source": [
    "df_eff[df_eff[\"Weight on Bit (klbs)\"] < 1].shape"
   ]
  },
  {
   "cell_type": "code",
   "execution_count": 124,
   "id": "34bb45f5-0291-4929-aedd-9b24f176bab9",
   "metadata": {},
   "outputs": [],
   "source": [
    "df_eff = df_eff[df_eff[\"Weight on Bit (klbs)\"] > 2]"
   ]
  },
  {
   "cell_type": "code",
   "execution_count": null,
   "id": "ddfa85bf-d646-4fcb-b19f-da2d3ce5969f",
   "metadata": {},
   "outputs": [],
   "source": []
  }
 ],
 "metadata": {
  "kernelspec": {
   "display_name": "Python 3 (ipykernel)",
   "language": "python",
   "name": "python3"
  },
  "language_info": {
   "codemirror_mode": {
    "name": "ipython",
    "version": 3
   },
   "file_extension": ".py",
   "mimetype": "text/x-python",
   "name": "python",
   "nbconvert_exporter": "python",
   "pygments_lexer": "ipython3",
   "version": "3.13.1"
  }
 },
 "nbformat": 4,
 "nbformat_minor": 5
}
